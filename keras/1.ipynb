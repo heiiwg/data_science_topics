{
 "cells": [
  {
   "cell_type": "markdown",
   "metadata": {},
   "source": [
    "[The webpage where I'm following my first tutorial. It's the Tensorflow Keras documentation page](https://www.tensorflow.org/guide/keras#import_tfkeras)"
   ]
  },
  {
   "cell_type": "markdown",
   "metadata": {},
   "source": [
    "Keras is a high-level API to build and train deep learning models. It's used for fast prototyping, advanced research, and production, with three key advantages:\n",
    "\n",
    "User friendly\n",
    "Keras has a simple, consistent interface optimized for __common use cases__. It provides clear and actionable feedback for user errors.\n",
    "Modular and composable\n",
    "Keras models are made by connecting configurable building blocks together, with few restrictions.\n",
    "Easy to extend\n",
    "Write custom building blocks to express new ideas for research. Create new layers, loss functions, and develop state-of-the-art models"
   ]
  },
  {
   "cell_type": "code",
   "execution_count": 3,
   "metadata": {},
   "outputs": [],
   "source": [
    "import tensorflow as tf\n",
    "from tensorflow import keras"
   ]
  },
  {
   "cell_type": "code",
   "execution_count": 5,
   "metadata": {},
   "outputs": [
    {
     "data": {
      "text/plain": [
       "<module 'tensorflow.keras' from '/Users/zhiwei/anaconda3/lib/python3.6/site-packages/tensorflow/keras/__init__.py'>"
      ]
     },
     "execution_count": 5,
     "metadata": {},
     "output_type": "execute_result"
    }
   ],
   "source": [
    "tf.keras"
   ]
  },
  {
   "cell_type": "markdown",
   "metadata": {},
   "source": [
    "What is HDF5?"
   ]
  },
  {
   "cell_type": "markdown",
   "metadata": {},
   "source": [
    "HDF: Hierarchical Data Format\n",
    "    \n",
    "1. A set of file formats designed to store and organize large amounts of of data.\n",
    "2. HDF5: \n",
    "\n",
    "\n",
    "PyPI: Python Package Index\n",
    "\n",
    "1. A repository of software for the Python programming language. [click here](https://pypi.org)\n",
    "2. It's a webpage where you can find all the software developed and shared by the Python community."
   ]
  },
  {
   "cell_type": "markdown",
   "metadata": {},
   "source": [
    "#### Building a simple model"
   ]
  },
  {
   "cell_type": "markdown",
   "metadata": {},
   "source": [
    "Sequential model\n",
    "\n",
    "In Keras, you assemble layers to build models. A model is (usually) a graph of layers. The most common type of model is a stack of layers: the tf.keras.Sequential model.\n",
    "\n",
    "To build a simple, fully-connected network (i.e. multi-layer perceptron):\n",
    "\n",
    "---"
   ]
  },
  {
   "cell_type": "markdown",
   "metadata": {},
   "source": [
    "What is a multi-layer perceptron?\n",
    "1. A feed forward nerual network.\n",
    "2. A neural network that consist of at least 3 layers of of nodes.\n",
    "\n",
    "What does feed forward mean?\n",
    "1. In a feed forward neural network information always moves in one direction and never goes backwards."
   ]
  },
  {
   "cell_type": "markdown",
   "metadata": {},
   "source": [
    "<img src='feed_forward.png' width='200'>\n",
    "\n",
    "[Image from wiki](https://en.wikipedia.org/wiki/Feedforward_neural_network)"
   ]
  },
  {
   "cell_type": "code",
   "execution_count": 8,
   "metadata": {},
   "outputs": [
    {
     "data": {
      "text/plain": [
       "<tensorflow.python.keras.engine.sequential.Sequential at 0xb387dda90>"
      ]
     },
     "execution_count": 8,
     "metadata": {},
     "output_type": "execute_result"
    }
   ],
   "source": [
    "# The most common type of model is a stack of layers: the tf.keras.Sequential model.\n",
    "\n",
    "model = keras.Sequential()\n",
    "\n",
    "model.add(keras.layers.Dense(64, activation='relu')) #first layer with 64 neurons\n",
    "model.add(keras.layers.Dense(64, activation='relu')) #second layer with 64 neurons\n",
    "\n",
    "model.add(keras.layers.Dense(10, activation='softmax')) #output layer with 10 neurons and a 'softmax' activation function.\n",
    "\n"
   ]
  },
  {
   "cell_type": "markdown",
   "metadata": {},
   "source": [
    "There are many tf.keras.layers available with some common constructor parameters:\n",
    "\n",
    "__activation:__ Set the activation function for the layer. This parameter is specified by the name of a built-in function or as a callable object. By default, no activation is applied.\n",
    "\n",
    "__kernel_initializer and bias_initializer:__ The initialization schemes that create the layer's weights (kernel and bias). This parameter is a name or a callable object. This defaults to the \"Glorot uniform\" initializer.\n",
    "\n",
    "__kernel_regularizer and bias_regularizer:__ The regularization schemes that apply the layer's weights (kernel and bias), such as L1 or L2 regularization. By default, no regularization is applied.\n",
    "\n",
    "---"
   ]
  },
  {
   "cell_type": "markdown",
   "metadata": {},
   "source": [
    "What is dense in keras?\n",
    "1. Dense is a chracteristic describing the nerons within the layer.\n",
    "2. A dense layer means that each neuron in the layer is connected to each neuron in the next layer.\n",
    "\n",
    "What is the softmax activation function?\n",
    "1. A function that is often used in the final layer nerual network classifier to restrict the output values into a desired range.\n",
    "\n",
    "What is a kernal?\n",
    "\n",
    "[You can read it here, it gets confusing](https://stats.stackexchange.com/questions/152897/how-to-intuitively-explain-what-a-kernel-is)\n",
    "\n",
    "What is a feature vector?\n",
    "1. A multi-dimensional vector of numerical features. 1 x N dimension.\n",
    "2. A matrix has to be 2 or more x N. I would assume this is the difference between a vector and a matrix. \n",
    "\n",
    "---"
   ]
  },
  {
   "cell_type": "markdown",
   "metadata": {},
   "source": [
    "#### Compiling the model"
   ]
  },
  {
   "cell_type": "code",
   "execution_count": null,
   "metadata": {},
   "outputs": [],
   "source": [
    "# After the model is constructed, configure its learning process by calling the compile method:\n",
    "\n",
    "\n",
    "model.compile(optimizer=tf.train.AdamOptimizer(0.001),\n",
    "             loss='categorical_crossentropy',\n",
    "             metrics=['accuracy'])"
   ]
  },
  {
   "cell_type": "markdown",
   "metadata": {},
   "source": [
    "tf.keras.Model.compile takes three important arguments:\n",
    "\n",
    "__optimizer:__ This object specifies the training procedure. Pass it optimizer instances from the tf.train module, such as AdamOptimizer, RMSPropOptimizer, or GradientDescentOptimizer.\n",
    "\n",
    "__loss:__ The function to minimize during optimization. Common choices include mean square error (mse), categorical_crossentropy, and binary_crossentropy. Loss functions are specified by name or by passing a callable object from the tf.keras.losses module.\n",
    "\n",
    "__metrics:__ Used to monitor training. These are string names or callables from the tf.keras.metrics module."
   ]
  },
  {
   "cell_type": "markdown",
   "metadata": {},
   "source": [
    "#### Input NumPy data"
   ]
  },
  {
   "cell_type": "markdown",
   "metadata": {},
   "source": [
    "For small datasets, use in-memory NumPy arrays to train and evaluate a model. The model is \"fit\" to the training data using the fit method"
   ]
  },
  {
   "cell_type": "code",
   "execution_count": 10,
   "metadata": {},
   "outputs": [],
   "source": [
    "import numpy as np\n",
    "\n",
    "data = np.random.random((1000,32)) # 1000 rows, 32 columns\n",
    "labels = np.random.random((1000,10)) # 1000 rows, 10 columns - a multi-label problem perhaps?\n",
    "\n",
    "model.fit(data, labels, epochs=10, batch_size=32) # remember that fitting is training "
   ]
  },
  {
   "cell_type": "code",
   "execution_count": 13,
   "metadata": {},
   "outputs": [
    {
     "data": {
      "text/plain": [
       "(1000, 32)"
      ]
     },
     "execution_count": 13,
     "metadata": {},
     "output_type": "execute_result"
    }
   ],
   "source": [
    "data.shape #just to take note that np has the .shape attribute too. "
   ]
  },
  {
   "cell_type": "markdown",
   "metadata": {},
   "source": [
    "tf.keras.Model.fit takes three important arguments:\n",
    "\n",
    "__epochs:__ Training is structured into epochs. An epoch is one iteration over the entire input data (this is done in smaller batches).\n",
    "\n",
    "__batch_size:__ When passed NumPy data, the model slices the data into smaller batches and iterates over these batches during training. This integer specifies the size of each batch. Be aware that the last batch may be smaller if the total number of samples is not divisible by the batch size.\n",
    "\n",
    "__validation_data:__ When prototyping a model, you want to easily monitor its performance on some validation data. Passing this argument—a tuple of inputs and labels—allows the model to display the loss and metrics in inference mode for the passed data, at the end of each epoch."
   ]
  },
  {
   "cell_type": "markdown",
   "metadata": {},
   "source": [
    "#### Evalute and predict"
   ]
  },
  {
   "cell_type": "code",
   "execution_count": null,
   "metadata": {},
   "outputs": [],
   "source": [
    "model.evaluate(x, y, batch_size=32) # I guess we are evaluating the data batch by batch. 32 times\n",
    "model.predict(x, batch_size=32) # I guess we are predicting the data batch by batch. 32 times"
   ]
  },
  {
   "cell_type": "markdown",
   "metadata": {},
   "source": [
    "#### Building advanced models"
   ]
  },
  {
   "cell_type": "markdown",
   "metadata": {},
   "source": [
    "The tf.keras.Sequential model is a simple stack of layers that cannot represent arbitrary models. Use the Keras functional API to build complex model topologies such as:\n",
    "\n",
    "* Multi-input models,\n",
    "* Multi-output models,\n",
    "* Models with shared layers (the same layer called several times),\n",
    "* Models with non-sequential data flows (e.g. residual connections).\n",
    "\n",
    "Building a model with the functional API works like this:\n",
    "\n",
    "A layer instance is callable (accepts parameters) and returns a tensor.\n",
    "Input tensors and output tensors are used to define a tf.keras.Model instance.\n",
    "This model is trained just like the Sequential model.\n"
   ]
  },
  {
   "cell_type": "code",
   "execution_count": null,
   "metadata": {},
   "outputs": [],
   "source": [
    "### Creating the model ###\n",
    "\n",
    "#input\n",
    "inputs = keras.Input(shape=(32,))\n",
    "#hidden layers\n",
    "x = keras.layers.Dense(64, activation='relu')(inputs)\n",
    "x = keras.layers.Dense(64, activation='relu')(x)\n",
    "#output\n",
    "predictions  = keras.layers.Dense(10, activation='softmax')(x)\n",
    "\n",
    "###Instantiate the model###\n",
    "\n",
    "model = keras.Model(inputs=inputs, outputs=predictions)\n",
    "\n",
    "###Compile the model###\n",
    "\n",
    "model.compile(optimizer=tf.train.RMSPropOptimizer(0.001)\n",
    "             loss='categorical_crosssentropy'\n",
    "             metrics=['accuracy'])\n",
    "\n",
    "##Train the model###\n",
    "\n",
    "model.fit(data, labels, batch_size=32, epochs=5)\n",
    "\n"
   ]
  },
  {
   "cell_type": "markdown",
   "metadata": {},
   "source": [
    "What does callable mean?\n",
    "\n",
    "1. A callable object is an object that can accept some arguments (also called parameters) and possibly return an object (often a tuple containing multiple objects). A function is the simplest callable object in Python"
   ]
  },
  {
   "cell_type": "markdown",
   "metadata": {},
   "source": [
    "#### Distribution"
   ]
  },
  {
   "cell_type": "markdown",
   "metadata": {},
   "source": [
    "he Estimators API is used for training models for distributed environments. This targets industry use cases such as distributed training on large datasets that can export a model for production.\n",
    "\n",
    "A tf.keras.Model can be trained with the tf.estimator API by converting the model to an tf.estimator.Estimator object with tf.keras.estimator.model_to_estimator. See Creating Estimators from Keras models."
   ]
  },
  {
   "cell_type": "code",
   "execution_count": null,
   "metadata": {},
   "outputs": [],
   "source": [
    "model = keras.Sequential([layers.Dense(10,activation='softmax'),\n",
    "                          layers.Dense(10,activation='softmax')])\n",
    "\n",
    "model.compile(optimizer=tf.train.RMSPropOptimizer(0.001),\n",
    "              loss='categorical_crossentropy',\n",
    "              metrics=['accuracy'])\n",
    "\n",
    "estimator = keras.estimator.model_to_estimator(model) \n",
    "#this is the conversion of the model to an estimator in order to train the model for a distributed envrionment. "
   ]
  }
 ],
 "metadata": {
  "kernelspec": {
   "display_name": "Python 3",
   "language": "python",
   "name": "python3"
  },
  "language_info": {
   "codemirror_mode": {
    "name": "ipython",
    "version": 3
   },
   "file_extension": ".py",
   "mimetype": "text/x-python",
   "name": "python",
   "nbconvert_exporter": "python",
   "pygments_lexer": "ipython3",
   "version": "3.6.6"
  }
 },
 "nbformat": 4,
 "nbformat_minor": 2
}
