{
 "cells": [
  {
   "cell_type": "markdown",
   "metadata": {},
   "source": [
    "[This is the article that I'm following](https://machinelearningmastery.com/multi-class-classification-tutorial-keras-deep-learning-library/)\n",
    "by Jason Brownlee on June 2, 2016 in Deep Learning"
   ]
  },
  {
   "cell_type": "markdown",
   "metadata": {},
   "source": [
    "# Multi-Class Classification Tutorial with the Keras Deep Learning Library"
   ]
  },
  {
   "cell_type": "code",
   "execution_count": 2,
   "metadata": {},
   "outputs": [
    {
     "name": "stderr",
     "output_type": "stream",
     "text": [
      "Using TensorFlow backend.\n"
     ]
    }
   ],
   "source": [
    "import numpy as np\n",
    "import pandas as pd\n",
    "\n",
    "from keras.models import Sequential\n",
    "from keras.layers import Dense\n",
    "from keras.wrappers.scikit_learn import KerasClassifier\n",
    "from keras.utils import np_utils\n",
    "\n",
    "from sklearn.model_selection import cross_val_score\n",
    "from sklearn.model_selection import KFold\n",
    "from sklearn.preprocessing import LabelEncoder # to create dummy variables for categorical columns - algorithms can only process numbers.\n",
    "from sklearn.pipeline import Pipeline"
   ]
  },
  {
   "cell_type": "markdown",
   "metadata": {},
   "source": [
    "<a id='seed'></a>"
   ]
  },
  {
   "cell_type": "code",
   "execution_count": 3,
   "metadata": {},
   "outputs": [],
   "source": [
    "seed = 7\n",
    "np.random.seed(seed)"
   ]
  },
  {
   "cell_type": "markdown",
   "metadata": {},
   "source": [
    "<img src='np.random.seed.png'>"
   ]
  },
  {
   "cell_type": "code",
   "execution_count": 4,
   "metadata": {},
   "outputs": [
    {
     "data": {
      "text/plain": [
       "array([0.07630829, 0.77991879, 0.43840923, 0.72346518])"
      ]
     },
     "execution_count": 4,
     "metadata": {},
     "output_type": "execute_result"
    }
   ],
   "source": [
    "np.random.seed(seed); np.random.rand(4) # testing the np.random.rand function with the seed"
   ]
  },
  {
   "cell_type": "code",
   "execution_count": 5,
   "metadata": {},
   "outputs": [
    {
     "data": {
      "text/plain": [
       "array([0.07630829, 0.77991879, 0.43840923, 0.72346518])"
      ]
     },
     "execution_count": 5,
     "metadata": {},
     "output_type": "execute_result"
    }
   ],
   "source": [
    "np.random.seed(seed); np.random.rand(4) # testing the np.random.rand function with the seed"
   ]
  },
  {
   "cell_type": "markdown",
   "metadata": {},
   "source": [
    "This seed allows me to generate the same set of numbers from the random function,\n",
    "\n",
    "---"
   ]
  },
  {
   "cell_type": "markdown",
   "metadata": {},
   "source": [
    "## Loading the data set\n",
    "> Note that you are making a prediction on categories based on continuous variables."
   ]
  },
  {
   "cell_type": "code",
   "execution_count": 9,
   "metadata": {},
   "outputs": [
    {
     "name": "stdout",
     "output_type": "stream",
     "text": [
      "   sepal_length  sepal_width  petal_length  petal_width   class\n",
      "0           5.1          3.5           1.4          0.2  setosa\n",
      "1           4.9          3.0           1.4          0.2  setosa\n",
      "2           4.7          3.2           1.3          0.2  setosa\n",
      "3           4.6          3.1           1.5          0.2  setosa\n",
      "4           5.0          3.6           1.4          0.2  setosa\n",
      "========================================\n",
      "(100, 5)\n",
      "========================================\n",
      "sepal_length    float64\n",
      "sepal_width     float64\n",
      "petal_length    float64\n",
      "petal_width     float64\n",
      "class            object\n",
      "dtype: object\n"
     ]
    }
   ],
   "source": [
    "df = pd.read_csv('iris.csv')\n",
    "print(df.head())\n",
    "\n",
    "print('='*40)\n",
    "print(df.shape)\n",
    "\n",
    "print('='*40)\n",
    "print(df.dtypes)"
   ]
  },
  {
   "cell_type": "code",
   "execution_count": 10,
   "metadata": {},
   "outputs": [],
   "source": [
    "X_col_names = ['sepal_length','sepal_width','petal_length','petal_width']\n",
    "y_col_names = ['class']\n",
    "\n",
    "X = df[X_col_names]\n",
    "y = df[y_col_names]"
   ]
  },
  {
   "cell_type": "code",
   "execution_count": 11,
   "metadata": {},
   "outputs": [
    {
     "name": "stdout",
     "output_type": "stream",
     "text": [
      "   sepal_length  sepal_width  petal_length  petal_width\n",
      "0           5.1          3.5           1.4          0.2\n",
      "1           4.9          3.0           1.4          0.2\n",
      "2           4.7          3.2           1.3          0.2\n",
      "3           4.6          3.1           1.5          0.2\n",
      "4           5.0          3.6           1.4          0.2\n",
      "========================================\n",
      "    class\n",
      "0  setosa\n",
      "1  setosa\n",
      "2  setosa\n",
      "3  setosa\n",
      "4  setosa\n"
     ]
    }
   ],
   "source": [
    "print(X.head())\n",
    "\n",
    "print('='*40)\n",
    "print(y.head())"
   ]
  },
  {
   "cell_type": "markdown",
   "metadata": {},
   "source": [
    "## Encode the target variable"
   ]
  },
  {
   "cell_type": "code",
   "execution_count": 12,
   "metadata": {},
   "outputs": [
    {
     "data": {
      "text/plain": [
       "versicolor    34\n",
       "virginica     34\n",
       "setosa        32\n",
       "Name: class, dtype: int64"
      ]
     },
     "execution_count": 12,
     "metadata": {},
     "output_type": "execute_result"
    }
   ],
   "source": [
    "# checking the number of categories in the column and their counts\n",
    "# value_counts() is a series object method\n",
    "y['class'].value_counts() "
   ]
  },
  {
   "cell_type": "markdown",
   "metadata": {},
   "source": [
    "What is one hot enconding: \n",
    "\n",
    "1. The idea of one hot encoding is the reformatting of categories into numeric qualities for processing.\n",
    "For example, these categories will be organized into a separate columns where the presence of the category in a row will be indicated by 1.\n",
    "\n",
    "To reiterate:\n",
    " \n",
    "1. Algorithms can only process numbers thus we have to find a way to translate these categories into numbers for processing.\n",
    "2. Each category will be given a new column and if a row corresponds to that category it will be represented by a one and the rest of the columns will have a zero.\n",
    "3. So on and so forth for the subsequent columns."
   ]
  },
  {
   "cell_type": "markdown",
   "metadata": {},
   "source": [
    "___"
   ]
  },
  {
   "cell_type": "code",
   "execution_count": 13,
   "metadata": {},
   "outputs": [
    {
     "name": "stderr",
     "output_type": "stream",
     "text": [
      "/Users/zhiwei/anaconda3/lib/python3.6/site-packages/sklearn/preprocessing/label.py:95: DataConversionWarning: A column-vector y was passed when a 1d array was expected. Please change the shape of y to (n_samples, ), for example using ravel().\n",
      "  y = column_or_1d(y, warn=True)\n"
     ]
    },
    {
     "data": {
      "text/plain": [
       "LabelEncoder()"
      ]
     },
     "execution_count": 13,
     "metadata": {},
     "output_type": "execute_result"
    }
   ],
   "source": [
    "encoder = LabelEncoder()\n",
    "encoder.fit(y)\n",
    "\n",
    "# Note that y, your target variable is in a data frame which is 2D. The label encoder can only accept 1D. Thus - \n",
    "# use .ravel() to set your y into 1D"
   ]
  },
  {
   "cell_type": "code",
   "execution_count": 14,
   "metadata": {},
   "outputs": [
    {
     "data": {
      "text/html": [
       "<div>\n",
       "<style scoped>\n",
       "    .dataframe tbody tr th:only-of-type {\n",
       "        vertical-align: middle;\n",
       "    }\n",
       "\n",
       "    .dataframe tbody tr th {\n",
       "        vertical-align: top;\n",
       "    }\n",
       "\n",
       "    .dataframe thead th {\n",
       "        text-align: right;\n",
       "    }\n",
       "</style>\n",
       "<table border=\"1\" class=\"dataframe\">\n",
       "  <thead>\n",
       "    <tr style=\"text-align: right;\">\n",
       "      <th></th>\n",
       "      <th>class</th>\n",
       "    </tr>\n",
       "  </thead>\n",
       "  <tbody>\n",
       "    <tr>\n",
       "      <th>0</th>\n",
       "      <td>setosa</td>\n",
       "    </tr>\n",
       "    <tr>\n",
       "      <th>1</th>\n",
       "      <td>setosa</td>\n",
       "    </tr>\n",
       "    <tr>\n",
       "      <th>2</th>\n",
       "      <td>setosa</td>\n",
       "    </tr>\n",
       "    <tr>\n",
       "      <th>3</th>\n",
       "      <td>setosa</td>\n",
       "    </tr>\n",
       "    <tr>\n",
       "      <th>4</th>\n",
       "      <td>setosa</td>\n",
       "    </tr>\n",
       "  </tbody>\n",
       "</table>\n",
       "</div>"
      ],
      "text/plain": [
       "    class\n",
       "0  setosa\n",
       "1  setosa\n",
       "2  setosa\n",
       "3  setosa\n",
       "4  setosa"
      ]
     },
     "execution_count": 14,
     "metadata": {},
     "output_type": "execute_result"
    }
   ],
   "source": [
    "y.head() \n",
    "# remember y here is 2D, it's a pandas dataframe\n",
    "# you have to make it into a 1d array because it's what the encoder is expected based on the error message above."
   ]
  },
  {
   "cell_type": "code",
   "execution_count": 15,
   "metadata": {},
   "outputs": [
    {
     "ename": "AttributeError",
     "evalue": "'DataFrame' object has no attribute 'ravel'",
     "output_type": "error",
     "traceback": [
      "\u001b[0;31m---------------------------------------------------------------------------\u001b[0m",
      "\u001b[0;31mAttributeError\u001b[0m                            Traceback (most recent call last)",
      "\u001b[0;32m<ipython-input-15-7fbe22c6a456>\u001b[0m in \u001b[0;36m<module>\u001b[0;34m()\u001b[0m\n\u001b[0;32m----> 1\u001b[0;31m \u001b[0my\u001b[0m\u001b[0;34m.\u001b[0m\u001b[0mravel\u001b[0m\u001b[0;34m(\u001b[0m\u001b[0;34m)\u001b[0m\u001b[0;34m\u001b[0m\u001b[0m\n\u001b[0m\u001b[1;32m      2\u001b[0m \u001b[0;31m# .ravel() is a numpy method, you have to convert y into a numpy array first before using .ravel()\u001b[0m\u001b[0;34m\u001b[0m\u001b[0;34m\u001b[0m\u001b[0m\n",
      "\u001b[0;32m~/anaconda3/lib/python3.6/site-packages/pandas/core/generic.py\u001b[0m in \u001b[0;36m__getattr__\u001b[0;34m(self, name)\u001b[0m\n\u001b[1;32m   4374\u001b[0m             \u001b[0;32mif\u001b[0m \u001b[0mself\u001b[0m\u001b[0;34m.\u001b[0m\u001b[0m_info_axis\u001b[0m\u001b[0;34m.\u001b[0m\u001b[0m_can_hold_identifiers_and_holds_name\u001b[0m\u001b[0;34m(\u001b[0m\u001b[0mname\u001b[0m\u001b[0;34m)\u001b[0m\u001b[0;34m:\u001b[0m\u001b[0;34m\u001b[0m\u001b[0m\n\u001b[1;32m   4375\u001b[0m                 \u001b[0;32mreturn\u001b[0m \u001b[0mself\u001b[0m\u001b[0;34m[\u001b[0m\u001b[0mname\u001b[0m\u001b[0;34m]\u001b[0m\u001b[0;34m\u001b[0m\u001b[0m\n\u001b[0;32m-> 4376\u001b[0;31m             \u001b[0;32mreturn\u001b[0m \u001b[0mobject\u001b[0m\u001b[0;34m.\u001b[0m\u001b[0m__getattribute__\u001b[0m\u001b[0;34m(\u001b[0m\u001b[0mself\u001b[0m\u001b[0;34m,\u001b[0m \u001b[0mname\u001b[0m\u001b[0;34m)\u001b[0m\u001b[0;34m\u001b[0m\u001b[0m\n\u001b[0m\u001b[1;32m   4377\u001b[0m \u001b[0;34m\u001b[0m\u001b[0m\n\u001b[1;32m   4378\u001b[0m     \u001b[0;32mdef\u001b[0m \u001b[0m__setattr__\u001b[0m\u001b[0;34m(\u001b[0m\u001b[0mself\u001b[0m\u001b[0;34m,\u001b[0m \u001b[0mname\u001b[0m\u001b[0;34m,\u001b[0m \u001b[0mvalue\u001b[0m\u001b[0;34m)\u001b[0m\u001b[0;34m:\u001b[0m\u001b[0;34m\u001b[0m\u001b[0m\n",
      "\u001b[0;31mAttributeError\u001b[0m: 'DataFrame' object has no attribute 'ravel'"
     ]
    }
   ],
   "source": [
    "y.ravel() \n",
    "# .ravel() is a numpy method, you have to convert y into a numpy array first before using .ravel()"
   ]
  },
  {
   "cell_type": "code",
   "execution_count": null,
   "metadata": {},
   "outputs": [],
   "source": [
    "y.values[:10]\n",
    "# using .values attribute to transform the object into a numpy array first because .ravel() only works on -\n",
    "# a nupy array "
   ]
  },
  {
   "cell_type": "code",
   "execution_count": null,
   "metadata": {},
   "outputs": [],
   "source": [
    "y.values.ravel()[:10] \n",
    "#now .ravel method works on numpy array and this is what I get back a 1D array"
   ]
  },
  {
   "cell_type": "code",
   "execution_count": 16,
   "metadata": {},
   "outputs": [
    {
     "name": "stdout",
     "output_type": "stream",
     "text": [
      "checking the object type of this new structure : <class 'numpy.ndarray'>\n",
      "checking the shape of this structure :  (100,)\n"
     ]
    }
   ],
   "source": [
    "print('checking the object type of this new structure : {}'.format(type(y.values.ravel())))\n",
    "print('checking the shape of this structure :  {}'.format((y.values.ravel().shape)))"
   ]
  },
  {
   "cell_type": "code",
   "execution_count": 17,
   "metadata": {},
   "outputs": [
    {
     "data": {
      "text/plain": [
       "array([0, 0, 0, 0, 0, 0, 0, 0, 0, 0, 0, 0, 0, 0, 0, 0, 0, 0, 0, 0, 0, 0,\n",
       "       0, 0, 0, 0, 0, 0, 0, 0, 0, 0, 1, 1, 1, 1, 1, 1, 1, 1, 1, 1, 1, 1,\n",
       "       1, 1, 1, 1, 1, 1, 1, 1, 1, 1, 1, 1, 1, 1, 1, 1, 1, 1, 1, 1, 1, 1,\n",
       "       2, 2, 2, 2, 2, 2, 2, 2, 2, 2, 2, 2, 2, 2, 2, 2, 2, 2, 2, 2, 2, 2,\n",
       "       2, 2, 2, 2, 2, 2, 2, 2, 2, 2, 2, 2])"
      ]
     },
     "execution_count": 17,
     "metadata": {},
     "output_type": "execute_result"
    }
   ],
   "source": [
    "# Finally, the encoder works and this is what I have after transformation.\n",
    "# What the Label Encoder does is only to tansform each category into a unique number.\n",
    "# The result yet is not a one-hot encoding.\n",
    "# A one hot encoding is when presence of a cateogry in a row is indicated by 1 or 0 only.\n",
    "\n",
    "encoder.fit(y.values.ravel())\n",
    "\n",
    "encoded_y = encoder.transform(y.values.ravel())\n",
    "encoded_y"
   ]
  },
  {
   "cell_type": "code",
   "execution_count": 18,
   "metadata": {},
   "outputs": [
    {
     "data": {
      "text/plain": [
       "array([[1., 0., 0.],\n",
       "       [1., 0., 0.],\n",
       "       [1., 0., 0.],\n",
       "       [1., 0., 0.],\n",
       "       [1., 0., 0.],\n",
       "       [1., 0., 0.],\n",
       "       [1., 0., 0.],\n",
       "       [1., 0., 0.],\n",
       "       [1., 0., 0.],\n",
       "       [1., 0., 0.]], dtype=float32)"
      ]
     },
     "execution_count": 18,
     "metadata": {},
     "output_type": "execute_result"
    }
   ],
   "source": [
    "# This is where we transform the categories that are label encoded into one-hot encoding.\n",
    "# These are what we call 'dummy variables', variables that are represented by a 1 or 0 in each row.\n",
    "\n",
    "dummy_y = np_utils.to_categorical(encoded_y)\n",
    "dummy_y[:10]"
   ]
  },
  {
   "cell_type": "code",
   "execution_count": 19,
   "metadata": {},
   "outputs": [
    {
     "data": {
      "text/html": [
       "<div>\n",
       "<style scoped>\n",
       "    .dataframe tbody tr th:only-of-type {\n",
       "        vertical-align: middle;\n",
       "    }\n",
       "\n",
       "    .dataframe tbody tr th {\n",
       "        vertical-align: top;\n",
       "    }\n",
       "\n",
       "    .dataframe thead th {\n",
       "        text-align: right;\n",
       "    }\n",
       "</style>\n",
       "<table border=\"1\" class=\"dataframe\">\n",
       "  <thead>\n",
       "    <tr style=\"text-align: right;\">\n",
       "      <th></th>\n",
       "      <th>sepal_length</th>\n",
       "      <th>sepal_width</th>\n",
       "      <th>petal_length</th>\n",
       "      <th>petal_width</th>\n",
       "    </tr>\n",
       "  </thead>\n",
       "  <tbody>\n",
       "    <tr>\n",
       "      <th>0</th>\n",
       "      <td>5.1</td>\n",
       "      <td>3.5</td>\n",
       "      <td>1.4</td>\n",
       "      <td>0.2</td>\n",
       "    </tr>\n",
       "    <tr>\n",
       "      <th>1</th>\n",
       "      <td>4.9</td>\n",
       "      <td>3.0</td>\n",
       "      <td>1.4</td>\n",
       "      <td>0.2</td>\n",
       "    </tr>\n",
       "    <tr>\n",
       "      <th>2</th>\n",
       "      <td>4.7</td>\n",
       "      <td>3.2</td>\n",
       "      <td>1.3</td>\n",
       "      <td>0.2</td>\n",
       "    </tr>\n",
       "    <tr>\n",
       "      <th>3</th>\n",
       "      <td>4.6</td>\n",
       "      <td>3.1</td>\n",
       "      <td>1.5</td>\n",
       "      <td>0.2</td>\n",
       "    </tr>\n",
       "    <tr>\n",
       "      <th>4</th>\n",
       "      <td>5.0</td>\n",
       "      <td>3.6</td>\n",
       "      <td>1.4</td>\n",
       "      <td>0.2</td>\n",
       "    </tr>\n",
       "  </tbody>\n",
       "</table>\n",
       "</div>"
      ],
      "text/plain": [
       "   sepal_length  sepal_width  petal_length  petal_width\n",
       "0           5.1          3.5           1.4          0.2\n",
       "1           4.9          3.0           1.4          0.2\n",
       "2           4.7          3.2           1.3          0.2\n",
       "3           4.6          3.1           1.5          0.2\n",
       "4           5.0          3.6           1.4          0.2"
      ]
     },
     "execution_count": 19,
     "metadata": {},
     "output_type": "execute_result"
    }
   ],
   "source": [
    "# how about my X?\n",
    "X.head()"
   ]
  },
  {
   "cell_type": "code",
   "execution_count": 20,
   "metadata": {},
   "outputs": [
    {
     "data": {
      "text/plain": [
       "array([[5.1, 3.5, 1.4, 0.2],\n",
       "       [4.9, 3. , 1.4, 0.2],\n",
       "       [4.7, 3.2, 1.3, 0.2],\n",
       "       [4.6, 3.1, 1.5, 0.2],\n",
       "       [5. , 3.6, 1.4, 0.2],\n",
       "       [5.4, 3.9, 1.7, 0.4],\n",
       "       [4.6, 3.4, 1.4, 0.3],\n",
       "       [5. , 3.4, 1.5, 0.2],\n",
       "       [4.4, 2.9, 1.4, 0.2],\n",
       "       [4.9, 3.1, 1.5, 0.1]])"
      ]
     },
     "execution_count": 20,
     "metadata": {},
     "output_type": "execute_result"
    }
   ],
   "source": [
    "# convert to numpy array\n",
    "X = X.values\n",
    "X[:10]"
   ]
  },
  {
   "cell_type": "markdown",
   "metadata": {},
   "source": [
    "One hot enconding: \n",
    "\n",
    "1. The idea of one hot encoding is the reformatting of categories into numeric qualities for processing.\n",
    "For example, these categories will be organized into a separate columns where the presence of the category in a row will be indicated by 1.\n",
    "\n",
    "To reiterate:\n",
    " \n",
    "1. Algorithms can only process numbers thus we have to find a way to translate these categories into numbers for processing.\n",
    "2. Each category will be given a new column and if a row corresponds to that category it will be represented by a one and the rest of the columns will have a zero.\n",
    "3. So on and so forth for the subsequent columns."
   ]
  },
  {
   "cell_type": "markdown",
   "metadata": {},
   "source": [
    "## Setting up the neural network model"
   ]
  },
  {
   "cell_type": "markdown",
   "metadata": {},
   "source": [
    "QUOTE: The Keras library provides wrapper classes to allow you to use neural network models developed with Keras in scikit-learn.\n",
    "\n",
    "1. What the author is saying here is that we want to evalute the keras model using scikit-learn methods. In order to do this we have to use something called the wrappper classes.\n",
    "2. Such a wrapper class is the KerasClassifer class.\n",
    "3. KerasClassifier allows you to use nerual network models developed in Keras with scikit-learn"
   ]
  },
  {
   "cell_type": "code",
   "execution_count": 21,
   "metadata": {},
   "outputs": [],
   "source": [
    "# Creating the Keras model\n",
    "\n",
    "model = Sequential() \n",
    "#initializing the model structure as a Sequntial model - The most common model with a stack of layers\n",
    "\n",
    "model.add(Dense(8, input_dim=4, activation='relu'))\n",
    "# adding a layer to the model with 8 neurons. input_dimension referse to the number of predictors - \n",
    "# activation ='relu'. This stands for Rectified Linear Activation Function\n",
    "# This function is here to capture non-linearity patterns in data.\n",
    "# If we only capture linear patterns in data then our predictive power is limited.\n",
    "\n",
    "model.add(Dense(3, activation='softmax'))\n",
    "# This is the last layers of the model with only 3 neurons because, each neuron represented each class / category -\n",
    "# we are trying to predict.\n",
    "\n",
    "model.compile(loss='categorical_crossentropy', optimizer='adam', metrics=['accuracy'])\n",
    "# .compile here is to configure the model's learning process.\n",
    "# the previous steps were you setting up the structure of the model\n",
    "# configuration requires you to specify how you are going to train the model : optimizer,\n",
    "    # the loss function: which is the function that optmizer is tryingt to minimize. \n",
    "    # and the metrics : used to monitor the training. \n"
   ]
  },
  {
   "cell_type": "markdown",
   "metadata": {},
   "source": [
    "Activation functions:\n",
    "<img src='non-linearity.png' width=750>\n",
    "\n",
    "[More on activation functions -1](https://towardsdatascience.com/activation-functions-and-its-types-which-is-better-a9a5310cc8f)"
   ]
  },
  {
   "cell_type": "code",
   "execution_count": 22,
   "metadata": {},
   "outputs": [],
   "source": [
    "# The code for the model without the commentary like above\n",
    "\n",
    "model = Sequential() \n",
    "model.add(Dense(8, input_dim=4, activation='relu'))\n",
    "model.add(Dense(3, activation='softmax'))\n",
    "model.compile(loss='categorical_crossentropy', optimizer='adam', metrics=['accuracy'])"
   ]
  },
  {
   "cell_type": "markdown",
   "metadata": {},
   "source": [
    "<a id='Sequential()'></a>"
   ]
  },
  {
   "cell_type": "code",
   "execution_count": 23,
   "metadata": {},
   "outputs": [],
   "source": [
    "# Putthing the model into a function so that we can call it \n",
    "\n",
    "def sequential_model():\n",
    "    \n",
    "    model = Sequential() \n",
    "    model.add(Dense(8, input_dim=4, activation='relu'))\n",
    "    model.add(Dense(3, activation='softmax'))\n",
    "    model.compile(loss='categorical_crossentropy', optimizer='adam', metrics=['accuracy'])\n",
    "    \n",
    "    return model\n",
    "\n",
    "# We need this function becuase the KerasClassifier function only acccepts a single input"
   ]
  },
  {
   "cell_type": "markdown",
   "metadata": {},
   "source": [
    "<a id='KerasClassifer'></a>"
   ]
  },
  {
   "cell_type": "code",
   "execution_count": 24,
   "metadata": {},
   "outputs": [],
   "source": [
    "# Creating the KerasClassifer - the wrapper for scikit-learn \n",
    "#i.e it formats our kears model into structure that the scikit-learn API can understand for processing.\n",
    "\n",
    "estimator = KerasClassifier(build_fn=sequential_model, epochs=200, batch_size=5,  verbose=0)\n",
    "\n",
    "# If you remember these parameters come into the model fit part which indicates how many times you want to - \n",
    "# train your model over the data set (epoch), how many batches do you want to split your dataset into (batch_size) -\n",
    "# And verbose determines how much descriptions of the training process you want to print out during model training"
   ]
  },
  {
   "cell_type": "markdown",
   "metadata": {},
   "source": [
    "Note that the data is not yet fit into this estimator. This KerasClassifier you are building it not a fit function. As of now no data is in the model yet. You will have to input the data later on during the cross_val_score section.\n",
    "\n",
    "---"
   ]
  },
  {
   "cell_type": "markdown",
   "metadata": {},
   "source": [
    "QUOTE: The scikit-learn has excellent capability to evaluate models using a suite of techniques. The gold standard for evaluating machine learning models is k-fold cross validation.\n",
    "\n",
    "1. The purpose we are using the wrapper I would think is becuase we want to use the k-fold cross validation technique from scikit-learn.\n",
    "2. Now that we have created the wrapper KerasClassffier with all configurations done we have to set up Kfold for cross validation."
   ]
  },
  {
   "cell_type": "markdown",
   "metadata": {},
   "source": [
    "<a id='KFold'></a>"
   ]
  },
  {
   "cell_type": "code",
   "execution_count": 25,
   "metadata": {},
   "outputs": [],
   "source": [
    "# KFold is from sklearn.model_selection\n",
    "\n",
    "kfold = KFold(n_splits=10, shuffle=True, random_state=seed) "
   ]
  },
  {
   "cell_type": "markdown",
   "metadata": {},
   "source": [
    "1. Note that the seed number has already been stated at the [beginning of the page](#seed).\n",
    "    - Note that the your refernce to the 'seed' id has to come after the hash symbol for this internal link to work.\n",
    "\n",
    "2. Shuffle: Shuffle the data before you split them into 10 folds.\n",
    "    - The splitting process splits the data into 10 pieces then uses each piece as a test set against the remaining 9 pieces.\n",
    "    - The score from all these 10 folds will be aggregated.\n"
   ]
  },
  {
   "cell_type": "markdown",
   "metadata": {},
   "source": [
    "<a id='cross_val_score'></a>"
   ]
  },
  {
   "cell_type": "code",
   "execution_count": 26,
   "metadata": {},
   "outputs": [],
   "source": [
    "# Since KFold has been created I can use it in my cross_val_score now.\n",
    "\n",
    "results = cross_val_score(estimator, X, dummy_y, cv=kfold)\n",
    "\n",
    "# If I did not use KFold here then I can just specify cv as a number.\n",
    "# But Kfold allows me to specify the seed number and weather or not I want to shuffle the data set -\n",
    "    # on top of specifying the number of folds. "
   ]
  },
  {
   "cell_type": "markdown",
   "metadata": {},
   "source": [
    "1. estimator is my KerasClassifier wrapper that wraps the Keras Sequential model\n",
    "2. cross_val_score is a function from scikit-learn that allows us to do multiple train-test splits across different sections of the data for training."
   ]
  },
  {
   "cell_type": "markdown",
   "metadata": {},
   "source": [
    "IMPORTANT:\n",
    "1. I had an error executing the : results = cross_val_score(estimator, X, dummy_y, cv=kfold). It said something about being unable to pickle or whatever. I realized that th problem was that I added the open and close brackets () to my sequantial_model function when stating it as a parameter under build_fn in the KerasClassifier.\n",
    "2. The paramters accepts the function without the open and close bracket for example, first point is wrong, second is correct. \n",
    "    - estimator = KerasClassifier(build_fn=sequential_model(), epochs=200, batch_size=5,  verbose=0)\n",
    "    - estimator = KerasClassifier(build_fn=sequential_model, epochs=200, batch_size=5,  verbose=0)"
   ]
  },
  {
   "cell_type": "code",
   "execution_count": 27,
   "metadata": {},
   "outputs": [
    {
     "data": {
      "text/plain": [
       "array([1.        , 1.        , 0.90000001, 0.80000001, 1.        ,\n",
       "       1.        , 0.40000001, 1.        , 1.        , 1.        ])"
      ]
     },
     "execution_count": 27,
     "metadata": {},
     "output_type": "execute_result"
    }
   ],
   "source": [
    "results"
   ]
  },
  {
   "cell_type": "code",
   "execution_count": 28,
   "metadata": {},
   "outputs": [
    {
     "data": {
      "text/plain": [
       "0.9100000023841858"
      ]
     },
     "execution_count": 28,
     "metadata": {},
     "output_type": "execute_result"
    }
   ],
   "source": [
    "results.mean() #91% accuracy, not bad. What is the variation of the accuracy scores?"
   ]
  },
  {
   "cell_type": "code",
   "execution_count": 29,
   "metadata": {},
   "outputs": [
    {
     "data": {
      "text/plain": [
       "0.18138356904044883"
      ]
     },
     "execution_count": 29,
     "metadata": {},
     "output_type": "execute_result"
    }
   ],
   "source": [
    "results.std() # variation is 18% between the folds, surprisingly high."
   ]
  },
  {
   "cell_type": "code",
   "execution_count": 30,
   "metadata": {},
   "outputs": [
    {
     "name": "stdout",
     "output_type": "stream",
     "text": [
      "The mean accuracy score from cross validation is 91.00 %\n",
      "The standard deviation from cross validation is 18.14 %\n"
     ]
    }
   ],
   "source": [
    "print(\"The mean accuracy score from cross validation is %.2f %%\" % (results.mean()*100))\n",
    "print(\"The standard deviation from cross validation is %.2f %%\" % (results.std()*100))\n",
    "\n",
    "# note that % represents the special character you want to insert\n",
    "# f means to being back a float\n",
    "# .2 means the number of decimals of the float you want to bing back\n",
    "# %% two of these just means insert a charcter but this insertion will be a percentage symbol. "
   ]
  },
  {
   "cell_type": "markdown",
   "metadata": {},
   "source": [
    "## Summary"
   ]
  },
  {
   "cell_type": "markdown",
   "metadata": {},
   "source": [
    "1. Create a seed number to use throughout the exercise. \n",
    "2. Load the data using pandas read_csv.\n",
    "3. Converted the values to numpy array.\n",
    "4. One-hot encoding on the target variable using the label encoder first then - from keras.utils import np_utils - np_utils.categorical.\n",
    "5. Created the keras [Sequential model](#Sequential()) - input, hidden, output (loss, optimizer, metrics).\n",
    "6. Wrapped the keras model using the [KerasClassifer](#KerasClassifer) - indicated number of epochs.\n",
    "7. Tested the model using [cross_val_score](#cross_val_score) from scikit-learn but not without configuration [KFold](#KFold) first.\n",
    "8. Check the accuracy result, its mean and its standard deviation."
   ]
  },
  {
   "cell_type": "markdown",
   "metadata": {},
   "source": [
    "## Last Meta"
   ]
  },
  {
   "cell_type": "markdown",
   "metadata": {},
   "source": [
    "1. This is a classification problem.\n",
    "2. We are using an accuracy score.\n",
    "3. We want to use cross_val_score from the scikit-learn library.\n",
    "4. In order to use cross_val_score the inputs or data structure must be recognized by scikit-learn thus the KerasClassifier wrapper.\n",
    "5. We are still using a neural net for this problem but evaluating it through scikit-learn's cross_val_score\n",
    "\n",
    "\n",
    "__Set up the neural net (keras) -> wrap the neural net (keras) -> test the neural net. (Scikit-learn)__"
   ]
  },
  {
   "cell_type": "code",
   "execution_count": null,
   "metadata": {},
   "outputs": [],
   "source": []
  }
 ],
 "metadata": {
  "kernelspec": {
   "display_name": "Python 3",
   "language": "python",
   "name": "python3"
  },
  "language_info": {
   "codemirror_mode": {
    "name": "ipython",
    "version": 3
   },
   "file_extension": ".py",
   "mimetype": "text/x-python",
   "name": "python",
   "nbconvert_exporter": "python",
   "pygments_lexer": "ipython3",
   "version": "3.6.6"
  }
 },
 "nbformat": 4,
 "nbformat_minor": 2
}
